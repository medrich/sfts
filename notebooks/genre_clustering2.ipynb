{
 "cells": [
  {
   "cell_type": "code",
   "execution_count": 3,
   "id": "c267f1c3-eb5a-47e6-a93e-c64e8ab7f19d",
   "metadata": {},
   "outputs": [],
   "source": [
    "from sklearn.cluster import KMeans\n",
    "from sklearn.preprocessing import StandardScaler\n",
    "from sklearn.pipeline import Pipeline\n",
    "import pickle\n",
    "from collections import defaultdict\n",
    "import pandas as pd\n",
    "import numpy as np\n",
    "import warnings\n",
    "warnings.filterwarnings('ignore')\n",
    "import random\n",
    "import sys\n",
    "from sklearn.metrics.pairwise import cosine_similarity\n",
    "from scipy import sparse\n",
    "import sklearn.preprocessing as pp"
   ]
  },
  {
   "cell_type": "code",
   "execution_count": 4,
   "id": "ff47af69-d04a-4711-858a-f88a722f460b",
   "metadata": {},
   "outputs": [],
   "source": [
    "with open('data/artists.p', 'rb') as fp:\n",
    "    artists = pickle.load(fp)\n",
    "    \n",
    "with open('data/genres.p', 'rb') as fp:\n",
    "    genres = pickle.load(fp)\n",
    "\n",
    "with open('data/genres_clean.p', 'rb') as fp:\n",
    "    genres_clean = pickle.load(fp)\n",
    "    \n",
    "with open('data/artists_clean.p', 'rb') as fp:\n",
    "    artists_clean = pickle.load(fp)"
   ]
  },
  {
   "cell_type": "code",
   "execution_count": 102,
   "id": "85b90434-f2ff-4d43-b55c-ba91b053f526",
   "metadata": {},
   "outputs": [],
   "source": [
    "#len(genres)"
   ]
  },
  {
   "cell_type": "code",
   "execution_count": 103,
   "id": "88d90100-f52c-4b1c-961f-4acedb5c45c3",
   "metadata": {},
   "outputs": [],
   "source": [
    "#len(artists)"
   ]
  },
  {
   "cell_type": "code",
   "execution_count": 104,
   "id": "e15cdf6a-e729-4b08-bca9-282da14e4d75",
   "metadata": {},
   "outputs": [],
   "source": [
    "#sample_dict = dict(random.sample(artists.items(), 80000))"
   ]
  },
  {
   "cell_type": "code",
   "execution_count": 105,
   "id": "8980d143-da61-4dc5-83fe-6a7c0879ddb5",
   "metadata": {},
   "outputs": [],
   "source": [
    "#df_genres = pd.DataFrame(columns=genres_clean)"
   ]
  },
  {
   "cell_type": "code",
   "execution_count": 106,
   "id": "9ba7f46d-6f90-4177-a541-e08a968b06b5",
   "metadata": {},
   "outputs": [],
   "source": [
    "#df_artists = pd.DataFrame(sample_dict.keys(), columns=['artist'])"
   ]
  },
  {
   "cell_type": "code",
   "execution_count": 107,
   "id": "38629d9c-c200-445c-b283-071c1f612b2c",
   "metadata": {},
   "outputs": [],
   "source": [
    "#df = pd.concat([df_artists,df_genres])"
   ]
  },
  {
   "cell_type": "code",
   "execution_count": 109,
   "id": "6b58f724-9575-486a-8b88-5cdb709b1c06",
   "metadata": {},
   "outputs": [],
   "source": [
    "#for col in df.columns[1:]:\n",
    "#    df[col].values[:] = 0"
   ]
  },
  {
   "cell_type": "code",
   "execution_count": 110,
   "id": "254f868d-781a-4d94-95f4-d8bf1fd4462a",
   "metadata": {},
   "outputs": [],
   "source": [
    "#%%timeit\n",
    "\n",
    "#for index in df.index:\n",
    "#    if df.loc[index,'artist'] in sample_dict.keys():\n",
    "#        band = df['artist'][index]\n",
    "#       print(mvp_dict[band])\n",
    "#       mvp_df.loc[index,mvp_df[mvp_dict[band]] == 0, mvp_dict[band]] = 1\n",
    "#        df.loc[df[\"artist\"] == band, sample_dict[band]] = 1"
   ]
  },
  {
   "cell_type": "code",
   "execution_count": 111,
   "id": "50b94ef9-d5cf-409a-9d5b-a62cc92651a9",
   "metadata": {},
   "outputs": [],
   "source": [
    "#df.index.rename('artist_id', inplace=True)"
   ]
  },
  {
   "cell_type": "code",
   "execution_count": 112,
   "id": "c6bcfe4e-6bad-4e41-a7d2-e9ba9686f94f",
   "metadata": {},
   "outputs": [],
   "source": [
    "#array_cols = df.columns[1:]\n",
    "\n",
    "#array_cols[:5]"
   ]
  },
  {
   "cell_type": "code",
   "execution_count": 113,
   "id": "3811384b-1328-47a3-bba3-eaa601fb6af1",
   "metadata": {},
   "outputs": [],
   "source": [
    "#df_for_array = df[array_cols]"
   ]
  },
  {
   "cell_type": "code",
   "execution_count": 114,
   "id": "f0663cda-8cdf-4964-a71e-5803de7f60c5",
   "metadata": {},
   "outputs": [],
   "source": [
    "#df_sparsed = df_for_array.astype(pd.SparseDtype(\"int\"))"
   ]
  },
  {
   "cell_type": "code",
   "execution_count": 115,
   "id": "32c0e0e7-60b5-49cc-a761-2154f67bac69",
   "metadata": {},
   "outputs": [],
   "source": [
    "#sparse_array = df_sparsed.to_numpy()"
   ]
  },
  {
   "cell_type": "code",
   "execution_count": 116,
   "id": "7be100f9-f8d0-48f1-96f1-d82280336427",
   "metadata": {},
   "outputs": [],
   "source": [
    "#data_sparse = sparse.csr_matrix(df_sparsed)"
   ]
  },
  {
   "cell_type": "code",
   "execution_count": 117,
   "id": "46efd48f-e659-4b67-bfe3-8903d40cbf4e",
   "metadata": {},
   "outputs": [],
   "source": [
    "# calculate similarity between each row (artist x genre)\n",
    "#similarities_sparse = cosine_similarity(data_sparse, dense_output=False)"
   ]
  },
  {
   "cell_type": "code",
   "execution_count": 118,
   "id": "d8bfe524-362a-4992-8ad7-a18011fda605",
   "metadata": {},
   "outputs": [],
   "source": [
    "# returns index (column position) of top n similarities in each row\n",
    "def top_n_idx_sparse(matrix, n):\n",
    "    '''Return index of top n values in each row of a sparse matrix'''\n",
    "    top_n_idx = []\n",
    "    for le, ri in zip(matrix.indptr[:-1], matrix.indptr[1:]):\n",
    "        n_row_pick = min(n, ri - le)\n",
    "        top_n_idx.append(matrix.indices[le + np.argpartition(matrix.data[le:ri], -n_row_pick)[-n_row_pick:]])\n",
    "    return top_n_idx\n",
    "\n",
    "#artist_artist_similar = top_n_idx_sparse(similarities_sparse, 11)"
   ]
  },
  {
   "cell_type": "code",
   "execution_count": 119,
   "id": "a07e1487-3c96-4cdf-bcf3-1e942d1f9d02",
   "metadata": {},
   "outputs": [],
   "source": [
    "# transforms result from sparse matrix into a dict as {matrix_index: [user_1, user_2,..., user_5]}\n",
    "#artist_similarity_dict = {}\n",
    "#for idx, val in enumerate(artist_artist_similar):\n",
    "#        artist_similarity_dict.update({idx: val.tolist()})"
   ]
  },
  {
   "cell_type": "code",
   "execution_count": 120,
   "id": "0106bbbb-38a0-4d42-90a4-5a0006419ab2",
   "metadata": {},
   "outputs": [],
   "source": [
    "# gets actual user ids from data based on sparse matrix position index\n",
    "#similar_artists_final = {}\n",
    "#for artist, similar_artists in artist_similarity_dict.items():\n",
    "#    idx = mvp_df.index[artist]\n",
    "#    values = []\n",
    "#    for value in similar_artists:\n",
    "#        values.append(mvp_df.index[value])\n",
    "\n",
    "#    similar_artists_final.update({idx: values})"
   ]
  },
  {
   "cell_type": "code",
   "execution_count": null,
   "id": "9b7493da-ba02-4132-842d-0eb6962fd8d2",
   "metadata": {},
   "outputs": [],
   "source": [
    "# transforms list of artists: [similar_artist1, similar_artist2] into list of artist: [artist1, artist2]\n",
    "#similar_bands = {}\n",
    "#for artist, similar_artists in similar_artists_final.items():\n",
    "    # remove the artist itself from similar_artists (since cos_sim(artist_1, artist_1) is 1)\n",
    "#    try:\n",
    "#        del similar_artists[similar_artists.index(artist)]\n",
    "#    except:\n",
    "#        pass\n",
    "     # get artist ids from list of similar artists.\n",
    "#    artists_rec = mvp_df[(mvp_df.index.isin(similar_artists))]\n",
    "#    if artists_rec.empty:\n",
    "#        continue\n",
    "#    artists_sample = artists_rec.sample(n=10, replace=True).index.values\n",
    "#    similar_bands.update({artist: list(set(artists_sample))})"
   ]
  },
  {
   "cell_type": "code",
   "execution_count": null,
   "id": "97996a7b-b4e3-4126-9ad1-51d5453044c5",
   "metadata": {},
   "outputs": [],
   "source": [
    "# transform dictionary into list of tuples and save on DataFrame\n",
    "#artist_sim_tup = [(artist, sim_artist) for artist, similar_bands in similar_bands.items() for sim_artist in similar_bands]\n",
    "#artist_similarity_df = pd.DataFrame(artist_sim_tup, columns=['artist_id', 'similar_artist_id'])"
   ]
  },
  {
   "cell_type": "code",
   "execution_count": null,
   "id": "acce20d7-6ce7-44ce-8784-4db4bcf936fb",
   "metadata": {},
   "outputs": [],
   "source": [
    "#rec_batch = pd.merge(artist_similarity_df, mvp_df['artist'], on='artist_id', how='left')"
   ]
  },
  {
   "cell_type": "code",
   "execution_count": null,
   "id": "29a27763-5187-47b6-b003-d71c1135c9a2",
   "metadata": {},
   "outputs": [],
   "source": [
    "#artist_map_dict = {}\n",
    "\n",
    "#for idx,row in enumerate(df['artist']):\n",
    "    #print(row)\n",
    "#    artist_map_dict[idx] = row"
   ]
  },
  {
   "cell_type": "code",
   "execution_count": 121,
   "id": "84259793-e7d7-4f4a-9a88-4ca654d8a21d",
   "metadata": {},
   "outputs": [],
   "source": [
    "#rec_batch['similar_artist'] = rec_batch['similar_artist_id']"
   ]
  },
  {
   "cell_type": "code",
   "execution_count": 122,
   "id": "69052910-36db-4d2f-ad83-66be1eb8bec3",
   "metadata": {},
   "outputs": [],
   "source": [
    "#rec_batch['similar_artist'] = rec_batch['similar_artist'].map(artist_map_dict)"
   ]
  },
  {
   "cell_type": "code",
   "execution_count": null,
   "id": "0ede111a-c8ae-4dec-9df8-1907b1adb50f",
   "metadata": {},
   "outputs": [],
   "source": [
    "#rec_batch = (rec_batch.set_index(['artist',rec_batch.groupby('artist').cumcount()])['similar_artist']\n",
    "#        .unstack()\n",
    "#        .add_prefix('similar artist #')\n",
    "#        .reset_index())"
   ]
  },
  {
   "cell_type": "code",
   "execution_count": 123,
   "id": "bb4c0af1-96d9-4940-a62b-79c7ebb859ae",
   "metadata": {},
   "outputs": [],
   "source": [
    "#rec_batch.head(50)"
   ]
  },
  {
   "cell_type": "code",
   "execution_count": null,
   "id": "28cd275e-dec5-4210-8ca2-e3a94608d2b0",
   "metadata": {},
   "outputs": [],
   "source": [
    "# mongod server connection\n",
    "#mongodb+srv://medrich:<password>@metisengineering.ddwda.mongodb.net/myFirstDatabase?retryWrites=true&w=majority"
   ]
  },
  {
   "cell_type": "code",
   "execution_count": null,
   "id": "a4a81219-76e8-489b-a19d-01c468139d8b",
   "metadata": {},
   "outputs": [],
   "source": [
    "'''\n",
    "Optimization suggestions from Kevin Chiv:\n",
    "\n",
    "def make_vector(genres):\n",
    "\t# this could be done with either loops or mapping\n",
    "\tgenre_vector = array of zeroes\n",
    "\tfor genre in genres:\n",
    "\t\tpos = find genre's position in array\n",
    "\t\tgenre_vector[pos] = 1\n",
    "\treturn genre_vector\n",
    "\t\n",
    "artist_genres_mapping = {\n",
    "\t'Beethoven': ['classical'],\n",
    "\t...\n",
    "\t'PSY': ['K-pop', 'hip-hop']\n",
    "}\n",
    "​\n",
    "def make_weighted_average_vector(artists, weights):\n",
    "\ttotal_vector = [0, 0, ..., 0]\n",
    "\tfor artist, weights in zip(artist, weights):\n",
    "\t\tartist_genres = artist_genres_mapping[artist]\n",
    "\t\tartist_vector = make_vector(artist_genres)\n",
    "\t\ttotal_vector += artist_vector * weight\n",
    "\treturn total_vector/len(artists)\n",
    "​\n",
    "weighted_average_vector = make_weighted_average_vector(['Kayne', 'AC/DC'], weights = [1, 3])\n",
    "​\n",
    "artist_scores = {}\n",
    "​\n",
    "for artist, genres in artist_genres_mapping:\n",
    "\tartist_vector = make_vector(genres)\n",
    "\tscore = cosine_similarity(weighted_average_vector, vector)\n",
    "\tartist_scores[artist] = score\n",
    "​\n",
    "artist_scores = sorted(artist_scores.items(), key = lambda x: x[1])\n",
    "'''"
   ]
  },
  {
   "cell_type": "code",
   "execution_count": 124,
   "id": "331e0b8f-d9fc-4978-b44e-0f53f6a306a9",
   "metadata": {},
   "outputs": [],
   "source": [
    "#genres_clean[:10]"
   ]
  },
  {
   "cell_type": "markdown",
   "id": "393f7ad3-4fa7-4a11-9403-13d75014cc84",
   "metadata": {},
   "source": [
    "## Check-in w/ Don:\n",
    "\n",
    "- use a double loop:\n",
    "  - main loop (artist a): calculates adjacent artists for artist a\n",
    "  - inner loop (artist b): for each of the other artists (artist b1 - bn), calculate their genre array one at a time and then do the pairwise cosine similarity between a and bn\n",
    "  \n",
    "- this will produce a list of similarities (cosine scores) between artist a and all the bs, most will be 0!\n",
    "  - keep only the top n items in this list\n",
    "  - construct a new array with the artist and the n closest artists\n",
    "  \n",
    "- this will be inefficient, and some of it can be vectorized (definitely the inner one)"
   ]
  },
  {
   "cell_type": "code",
   "execution_count": 5,
   "id": "93651599-03b0-464f-b6c1-55d1318b38a7",
   "metadata": {},
   "outputs": [],
   "source": [
    "def make_artist_vector(genres, artists):\n",
    "    \n",
    "    '''\n",
    "    Inputs \n",
    "    - genres: list of genres by name\n",
    "    - artists: dict with artists as keys and a list of their genres as values\n",
    "    '''\n",
    "    \n",
    "    arr = np.zeros(len(genres), dtype=bool)\n",
    "    seed_artist = input('What artist are you searching?')\n",
    "    \n",
    "    if seed_artist in artists:\n",
    "        styles = artists[seed_artist]\n",
    "        style_pos = []\n",
    "        \n",
    "        for idx,genre in enumerate(genres):\n",
    "            if genre in styles:\n",
    "                pos = idx\n",
    "                style_pos.append(pos)\n",
    "        \n",
    "        np.put(arr, style_pos, 1)\n",
    "        return arr, seed_artist\n",
    "    \n",
    "    else:\n",
    "        print('Sorry, that artist does not exist in this dataset.')"
   ]
  },
  {
   "cell_type": "code",
   "execution_count": 83,
   "id": "9636ccb5-8f94-4f54-b810-9012a3ad5e60",
   "metadata": {},
   "outputs": [
    {
     "name": "stdin",
     "output_type": "stream",
     "text": [
      "What artist are you searching? Fleetwood Mac\n"
     ]
    }
   ],
   "source": [
    "test1a = make_artist_vector(genres_clean, artists)"
   ]
  },
  {
   "cell_type": "code",
   "execution_count": 8,
   "id": "6b0605a7-678d-450b-aab7-70e74d6c8e39",
   "metadata": {},
   "outputs": [
    {
     "data": {
      "text/plain": [
       "array([False, False, False, ..., False, False, False])"
      ]
     },
     "execution_count": 8,
     "metadata": {},
     "output_type": "execute_result"
    }
   ],
   "source": [
    "#test[test==True]"
   ]
  },
  {
   "cell_type": "code",
   "execution_count": 84,
   "id": "5cbb8a48-a2b3-49ec-8a02-4efa80fb3665",
   "metadata": {},
   "outputs": [
    {
     "data": {
      "text/plain": [
       "'Fleetwood Mac'"
      ]
     },
     "execution_count": 84,
     "metadata": {},
     "output_type": "execute_result"
    }
   ],
   "source": [
    "test1a[1]"
   ]
  },
  {
   "cell_type": "code",
   "execution_count": 85,
   "id": "bb2e6ee2-b6bb-40d0-ab21-78cd83de4c98",
   "metadata": {},
   "outputs": [
    {
     "data": {
      "text/plain": [
       "5071"
      ]
     },
     "execution_count": 85,
     "metadata": {},
     "output_type": "execute_result"
    }
   ],
   "source": [
    "len(test1a[0])"
   ]
  },
  {
   "cell_type": "code",
   "execution_count": 86,
   "id": "791cc8a7-f3f2-4abb-8aa5-cdd986a4cce3",
   "metadata": {},
   "outputs": [],
   "source": [
    "def compare_artist(genres, artists_dict, seed, seed_arr):\n",
    "    \n",
    "    similarities = []\n",
    "    artist_names = []\n",
    "    \n",
    "    for artist in artists_dict:\n",
    "        if artist != seed:\n",
    "            artist_names.append(str(artist))\n",
    "            comp_arr = np.zeros(len(genres), dtype=bool)\n",
    "            styles = artists_dict[artist]\n",
    "            style_pos = []\n",
    "            \n",
    "            for idx,genre in enumerate(genres):\n",
    "                if genre in styles:\n",
    "                    pos = idx\n",
    "                    style_pos.append(pos)\n",
    "            \n",
    "            np.put(comp_arr, style_pos, 1)\n",
    "            sim = cosine_similarity(seed_arr.reshape(1,-1), comp_arr.reshape(1,-1))\n",
    "            similarities.append(sim)\n",
    "        else:\n",
    "            continue\n",
    "    \n",
    "    #return similarities\n",
    "    artist_sims = []\n",
    "    \n",
    "    for a,artist in zip(similarities,artist_names):\n",
    "        for b in a:\n",
    "            for c in b:\n",
    "                tup = (artist, c) \n",
    "                artist_sims.append(tup)       \n",
    "    \n",
    "    return artist_sims         "
   ]
  },
  {
   "cell_type": "code",
   "execution_count": 87,
   "id": "740056d9-a198-4777-8f0a-3956748aa63a",
   "metadata": {},
   "outputs": [],
   "source": [
    "test1b = compare_artist(genres_clean, artists, test1a[1], test1a[0])"
   ]
  },
  {
   "cell_type": "code",
   "execution_count": 88,
   "id": "0f9d4a49-d509-4aaf-8dcc-50527e0d8579",
   "metadata": {},
   "outputs": [
    {
     "data": {
      "text/plain": [
       "395470"
      ]
     },
     "execution_count": 88,
     "metadata": {},
     "output_type": "execute_result"
    }
   ],
   "source": [
    "len(test1b)"
   ]
  },
  {
   "cell_type": "code",
   "execution_count": 89,
   "id": "2584b373-8b2a-4adc-a391-92dd2d3935f3",
   "metadata": {},
   "outputs": [],
   "source": [
    "#test1b[1][0]"
   ]
  },
  {
   "cell_type": "code",
   "execution_count": 90,
   "id": "0733fb3d-467f-4531-903f-c478977c66f0",
   "metadata": {},
   "outputs": [],
   "source": [
    "#cosine_sims_test = []\n",
    "\n",
    "#for a in test2:\n",
    "#    for b in a:\n",
    "#        for c in b:\n",
    "#            cosine_sims_test.append(c)"
   ]
  },
  {
   "cell_type": "code",
   "execution_count": 91,
   "id": "fea96d84-eb40-42cd-a5e4-4ba1d70ec089",
   "metadata": {},
   "outputs": [],
   "source": [
    "#len(cosine_sims_test)"
   ]
  },
  {
   "cell_type": "code",
   "execution_count": 92,
   "id": "960c6fb2-ea76-401a-a825-b8c926b27b5b",
   "metadata": {},
   "outputs": [],
   "source": [
    "#for i in range(len(test2)):\n",
    "#    if test2[i][1] > 0:\n",
    "#        print(test2[i])"
   ]
  },
  {
   "cell_type": "code",
   "execution_count": 93,
   "id": "9885a5bb-a144-4f9e-b744-49f1f5edc4e5",
   "metadata": {},
   "outputs": [],
   "source": [
    "def sort_tuple(tup): \n",
    "  \n",
    "    #reverse = None (Sorts in Ascending order) \n",
    "    # key is set to sort using second element of \n",
    "    # sublist lambda has been used \n",
    "    tup.sort(key = lambda x: x[1], reverse=True) \n",
    "    return tup[:10] "
   ]
  },
  {
   "cell_type": "code",
   "execution_count": 94,
   "id": "49d2b964-6fea-4e7e-93ad-0c1f19f99981",
   "metadata": {},
   "outputs": [],
   "source": [
    "test1c = sort_tuple(test1b)"
   ]
  },
  {
   "cell_type": "code",
   "execution_count": 101,
   "id": "9f67a5cd-8ddf-4500-8b7b-6adbf520bd3b",
   "metadata": {},
   "outputs": [
    {
     "name": "stdout",
     "output_type": "stream",
     "text": [
      "Daryl Hall & John Oates\n",
      "TOTO\n",
      "Dire Straits\n",
      "Pat Benatar\n",
      "Huey Lewis & The News\n",
      "Kenny Loggins\n",
      "Rick Springfield\n",
      "Eagles\n",
      "Foreigner\n",
      "Heart\n"
     ]
    }
   ],
   "source": [
    "for i in test1c:\n",
    "    print(i[0])"
   ]
  },
  {
   "cell_type": "code",
   "execution_count": 97,
   "id": "4af83977-070c-4fc8-b899-ec8b31e91d8c",
   "metadata": {},
   "outputs": [
    {
     "data": {
      "text/plain": [
       "['album rock',\n",
       " 'classic rock',\n",
       " 'mellow gold',\n",
       " 'rock',\n",
       " 'soft rock',\n",
       " 'yacht rock']"
      ]
     },
     "execution_count": 97,
     "metadata": {},
     "output_type": "execute_result"
    }
   ],
   "source": [
    "artists['Fleetwood Mac']"
   ]
  },
  {
   "cell_type": "code",
   "execution_count": 98,
   "id": "e88f8d90-f72f-450f-a677-428b5130b465",
   "metadata": {},
   "outputs": [
    {
     "data": {
      "text/plain": [
       "['album rock',\n",
       " 'classic rock',\n",
       " 'mellow gold',\n",
       " 'rock',\n",
       " 'soft rock',\n",
       " 'yacht rock']"
      ]
     },
     "execution_count": 98,
     "metadata": {},
     "output_type": "execute_result"
    }
   ],
   "source": [
    "artists['TOTO']"
   ]
  },
  {
   "cell_type": "code",
   "execution_count": null,
   "id": "722abf25-6b78-4493-8386-54c5c478e2ed",
   "metadata": {},
   "outputs": [],
   "source": []
  }
 ],
 "metadata": {
  "kernelspec": {
   "display_name": "Python 3 (ipykernel)",
   "language": "python",
   "name": "python3"
  },
  "language_info": {
   "codemirror_mode": {
    "name": "ipython",
    "version": 3
   },
   "file_extension": ".py",
   "mimetype": "text/x-python",
   "name": "python",
   "nbconvert_exporter": "python",
   "pygments_lexer": "ipython3",
   "version": "3.8.11"
  }
 },
 "nbformat": 4,
 "nbformat_minor": 5
}
